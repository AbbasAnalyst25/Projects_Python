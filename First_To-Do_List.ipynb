{
  "nbformat": 4,
  "nbformat_minor": 0,
  "metadata": {
    "colab": {
      "name": "Untitled3.ipynb",
      "provenance": [],
      "authorship_tag": "ABX9TyNwqziq16A80VPVoH8Dpk9a"
    },
    "kernelspec": {
      "name": "python3",
      "display_name": "Python 3"
    },
    "language_info": {
      "name": "python"
    }
  },
  "cells": [
    {
      "cell_type": "markdown",
      "source": [
        "**Create Your First Python Program From UST**\n",
        "---\n",
        "This is a beginner level project which should take less than 2 hours to finish\n",
        "\n",
        "**Course Certificate** : [Credential URL](https://www.coursera.org/account/accomplishments/certificate/FFTXJLDE4744)\n",
        "\n",
        "\n"
      ],
      "metadata": {
        "id": "yEucAmC2-7lg"
      }
    },
    {
      "cell_type": "code",
      "source": [
        "user_input = 'random'\n",
        "data = []\n",
        "def show_menu():\n",
        "    print('Menu: ')\n",
        "    print('1. Add an item')\n",
        "    print('2. Mark as done')\n",
        "    print('3. view the to do items')\n",
        "    print('4. Exit')\n",
        "\n",
        "while user_input != '4':\n",
        "    show_menu()\n",
        "    user_input = input('Enter your choice ')\n",
        "\n",
        "    if user_input == '1':\n",
        "        item = input('what is to be done? ')\n",
        "        data.append(item)\n",
        "        print('Added item', item)\n",
        "    elif user_input == '2':\n",
        "        item = input('What is to be marked as done? ')\n",
        "        if item in data:\n",
        "            data.remove(item)\n",
        "            print('removed item', item)\n",
        "        else: \n",
        "            print('item does not exist in the list ')\n",
        "    elif user_input == '3':\n",
        "        print('List of to-do itmes:')\n",
        "        for item in data:\n",
        "            print(item)\n",
        "    elif user_input == '4':\n",
        "        print('Goodbye')\n",
        "    else:\n",
        "        print('please enter one of 1 ,2 ,3 or 4')"
      ],
      "metadata": {
        "id": "vs763FWA-8GW"
      },
      "execution_count": null,
      "outputs": []
    }
  ]
}